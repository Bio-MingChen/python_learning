{
 "cells": [
  {
   "cell_type": "code",
   "execution_count": 1,
   "metadata": {},
   "outputs": [],
   "source": [
    "import pandas as pd\n",
    "import plotly.express as px"
   ]
  },
  {
   "cell_type": "code",
   "execution_count": 2,
   "metadata": {},
   "outputs": [
    {
     "name": "stdout",
     "output_type": "stream",
     "text": [
      "<class 'pandas.core.frame.DataFrame'>\n",
      "RangeIndex: 33045 entries, 0 to 33044\n",
      "Data columns (total 13 columns):\n",
      " #   Column         Non-Null Count  Dtype  \n",
      "---  ------         --------------  -----  \n",
      " 0   date           33045 non-null  object \n",
      " 1   average_price  33045 non-null  float64\n",
      " 2   total_volume   33045 non-null  float64\n",
      " 3   4046           33045 non-null  float64\n",
      " 4   4225           33045 non-null  float64\n",
      " 5   4770           33045 non-null  float64\n",
      " 6   total_bags     33045 non-null  float64\n",
      " 7   small_bags     33045 non-null  float64\n",
      " 8   large_bags     33045 non-null  float64\n",
      " 9   xlarge_bags    33045 non-null  float64\n",
      " 10  type           33045 non-null  object \n",
      " 11  year           33045 non-null  int64  \n",
      " 12  geography      33045 non-null  object \n",
      "dtypes: float64(9), int64(1), object(3)\n",
      "memory usage: 3.3+ MB\n"
     ]
    }
   ],
   "source": [
    "df = pd.read_csv('avocado-updated-2020.csv')\n",
    "df.info()"
   ]
  },
  {
   "cell_type": "code",
   "execution_count": 3,
   "metadata": {},
   "outputs": [
    {
     "name": "stdout",
     "output_type": "stream",
     "text": [
      "type\n",
      "conventional    16524\n",
      "organic         16521\n",
      "Name: count, dtype: int64\n",
      "geography\n",
      "Albany                  612\n",
      "Sacramento              612\n",
      "Northeast               612\n",
      "Northern New England    612\n",
      "Orlando                 612\n",
      "Philadelphia            612\n",
      "Phoenix/Tucson          612\n",
      "Pittsburgh              612\n",
      "Plains                  612\n",
      "Portland                612\n",
      "Raleigh/Greensboro      612\n",
      "Richmond/Norfolk        612\n",
      "Roanoke                 612\n",
      "San Diego               612\n",
      "Atlanta                 612\n",
      "San Francisco           612\n",
      "Seattle                 612\n",
      "South Carolina          612\n",
      "South Central           612\n",
      "Southeast               612\n",
      "Spokane                 612\n",
      "St. Louis               612\n",
      "Syracuse                612\n",
      "Tampa                   612\n",
      "Total U.S.              612\n",
      "West                    612\n",
      "New York                612\n",
      "New Orleans/Mobile      612\n",
      "Nashville               612\n",
      "Midsouth                612\n",
      "Baltimore/Washington    612\n",
      "Boise                   612\n",
      "Boston                  612\n",
      "Buffalo/Rochester       612\n",
      "California              612\n",
      "Charlotte               612\n",
      "Chicago                 612\n",
      "Cincinnati/Dayton       612\n",
      "Columbus                612\n",
      "Dallas/Ft. Worth        612\n",
      "Denver                  612\n",
      "Detroit                 612\n",
      "Grand Rapids            612\n",
      "Great Lakes             612\n",
      "Harrisburg/Scranton     612\n",
      "Hartford/Springfield    612\n",
      "Houston                 612\n",
      "Indianapolis            612\n",
      "Jacksonville            612\n",
      "Las Vegas               612\n",
      "Los Angeles             612\n",
      "Louisville              612\n",
      "Miami/Ft. Lauderdale    612\n",
      "West Tex/New Mexico     609\n",
      "Name: count, dtype: int64\n"
     ]
    }
   ],
   "source": [
    "print(df['type'].value_counts(dropna=False))\n",
    "print(df['geography'].value_counts(dropna=False))"
   ]
  },
  {
   "cell_type": "code",
   "execution_count": 4,
   "metadata": {},
   "outputs": [
    {
     "data": {
      "application/vnd.plotly.v1+json": {
       "config": {
        "plotlyServerURL": "https://plot.ly"
       },
       "data": [
        {
         "hovertemplate": "type=conventional<br>date=%{x}<br>average_price=%{y}<extra></extra>",
         "legendgroup": "conventional",
         "line": {
          "color": "#636efa",
          "dash": "solid"
         },
         "marker": {
          "symbol": "circle"
         },
         "mode": "lines",
         "name": "conventional",
         "orientation": "v",
         "showlegend": true,
         "type": "scatter",
         "x": [
          "2015-01-04",
          "2015-01-11",
          "2015-01-18",
          "2015-01-25",
          "2015-02-01",
          "2015-02-08",
          "2015-02-15",
          "2015-02-22",
          "2015-03-01",
          "2015-03-08",
          "2015-03-15",
          "2015-03-22",
          "2015-03-29",
          "2015-04-05",
          "2015-04-12",
          "2015-04-19",
          "2015-04-26",
          "2015-05-03",
          "2015-05-10",
          "2015-05-17",
          "2015-05-24",
          "2015-05-31",
          "2015-06-07",
          "2015-06-14",
          "2015-06-21",
          "2015-06-28",
          "2015-07-05",
          "2015-07-12",
          "2015-07-19",
          "2015-07-26",
          "2015-08-02",
          "2015-08-09",
          "2015-08-16",
          "2015-08-23",
          "2015-08-30",
          "2015-09-06",
          "2015-09-13",
          "2015-09-20",
          "2015-09-27",
          "2015-10-04",
          "2015-10-11",
          "2015-10-18",
          "2015-10-25",
          "2015-11-01",
          "2015-11-08",
          "2015-11-15",
          "2015-11-22",
          "2015-11-29",
          "2015-12-06",
          "2015-12-13",
          "2015-12-20",
          "2015-12-27",
          "2016-01-03",
          "2016-01-10",
          "2016-01-17",
          "2016-01-24",
          "2016-01-31",
          "2016-02-07",
          "2016-02-14",
          "2016-02-21",
          "2016-02-28",
          "2016-03-06",
          "2016-03-13",
          "2016-03-20",
          "2016-03-27",
          "2016-04-03",
          "2016-04-10",
          "2016-04-17",
          "2016-04-24",
          "2016-05-01",
          "2016-05-08",
          "2016-05-15",
          "2016-05-22",
          "2016-05-29",
          "2016-06-05",
          "2016-06-12",
          "2016-06-19",
          "2016-06-26",
          "2016-07-03",
          "2016-07-10",
          "2016-07-17",
          "2016-07-24",
          "2016-07-31",
          "2016-08-07",
          "2016-08-14",
          "2016-08-21",
          "2016-08-28",
          "2016-09-04",
          "2016-09-11",
          "2016-09-18",
          "2016-09-25",
          "2016-10-02",
          "2016-10-09",
          "2016-10-16",
          "2016-10-23",
          "2016-10-30",
          "2016-11-06",
          "2016-11-13",
          "2016-11-20",
          "2016-11-27",
          "2016-12-04",
          "2016-12-11",
          "2016-12-18",
          "2016-12-25",
          "2017-01-01",
          "2017-01-08",
          "2017-01-15",
          "2017-01-22",
          "2017-01-29",
          "2017-02-05",
          "2017-02-12",
          "2017-02-19",
          "2017-02-26",
          "2017-03-05",
          "2017-03-12",
          "2017-03-19",
          "2017-03-26",
          "2017-04-02",
          "2017-04-09",
          "2017-04-16",
          "2017-04-23",
          "2017-04-30",
          "2017-05-07",
          "2017-05-14",
          "2017-05-21",
          "2017-05-28",
          "2017-06-04",
          "2017-06-11",
          "2017-06-18",
          "2017-06-25",
          "2017-07-02",
          "2017-07-09",
          "2017-07-16",
          "2017-07-23",
          "2017-07-30",
          "2017-08-06",
          "2017-08-13",
          "2017-08-20",
          "2017-08-27",
          "2017-09-03",
          "2017-09-10",
          "2017-09-17",
          "2017-09-24",
          "2017-10-01",
          "2017-10-08",
          "2017-10-15",
          "2017-10-22",
          "2017-10-29",
          "2017-11-05",
          "2017-11-12",
          "2017-11-19",
          "2017-11-26",
          "2017-12-03",
          "2017-12-10",
          "2017-12-17",
          "2017-12-24",
          "2017-12-31",
          "2018-01-01",
          "2018-01-07",
          "2018-01-14",
          "2018-01-21",
          "2018-01-28",
          "2018-02-04",
          "2018-02-11",
          "2018-02-18",
          "2018-02-25",
          "2018-03-04",
          "2018-03-11",
          "2018-03-18",
          "2018-03-25",
          "2018-04-01",
          "2018-04-08",
          "2018-04-15",
          "2018-04-22",
          "2018-04-29",
          "2018-05-06",
          "2018-05-13",
          "2018-05-20",
          "2018-05-27",
          "2018-06-03",
          "2018-06-10",
          "2018-06-17",
          "2018-06-24",
          "2018-07-01",
          "2018-07-08",
          "2018-07-15",
          "2018-07-22",
          "2018-07-29",
          "2018-08-05",
          "2018-08-12",
          "2018-08-19",
          "2018-08-26",
          "2018-09-02",
          "2018-09-09",
          "2018-09-16",
          "2018-09-23",
          "2018-09-30",
          "2018-10-07",
          "2018-10-14",
          "2018-10-21",
          "2018-10-28",
          "2018-11-04",
          "2018-11-11",
          "2018-11-18",
          "2018-11-25",
          "2018-12-02",
          "2019-01-07",
          "2019-01-13",
          "2019-01-20",
          "2019-01-27",
          "2019-02-03",
          "2019-02-10",
          "2019-02-17",
          "2019-02-24",
          "2019-03-03",
          "2019-03-10",
          "2019-03-17",
          "2019-03-24",
          "2019-03-31",
          "2019-04-07",
          "2019-04-14",
          "2019-04-21",
          "2019-04-28",
          "2019-05-05",
          "2019-05-12",
          "2019-05-19",
          "2019-05-26",
          "2019-06-02",
          "2019-06-09",
          "2019-06-16",
          "2019-06-23",
          "2019-06-30",
          "2019-07-07",
          "2019-07-14",
          "2019-07-21",
          "2019-07-28",
          "2019-08-04",
          "2019-08-11",
          "2019-08-18",
          "2019-08-25",
          "2019-09-01",
          "2019-09-08",
          "2019-09-15",
          "2019-09-22",
          "2019-09-29",
          "2019-10-06",
          "2019-10-13",
          "2019-10-20",
          "2019-10-27",
          "2019-11-03",
          "2019-11-10",
          "2019-11-17",
          "2019-11-24",
          "2019-12-01",
          "2019-12-08",
          "2019-12-15",
          "2019-12-22",
          "2019-12-29",
          "2020-01-06",
          "2020-01-12",
          "2020-01-19",
          "2020-01-26",
          "2020-02-02",
          "2020-02-09",
          "2020-02-16",
          "2020-02-23",
          "2020-03-01",
          "2020-03-08",
          "2020-03-15",
          "2020-03-22",
          "2020-03-29",
          "2020-04-05",
          "2020-04-12",
          "2020-04-19",
          "2020-04-26",
          "2020-05-03",
          "2020-05-10",
          "2020-05-17",
          "2020-05-24",
          "2020-05-31",
          "2020-06-07",
          "2020-06-14",
          "2020-06-21",
          "2020-06-28",
          "2020-07-05",
          "2020-07-12",
          "2020-07-19",
          "2020-07-26",
          "2020-08-02",
          "2020-08-09",
          "2020-08-16",
          "2020-08-23",
          "2020-08-30",
          "2020-09-06",
          "2020-09-13",
          "2020-09-20",
          "2020-09-27",
          "2020-10-04",
          "2020-10-11",
          "2020-10-18",
          "2020-10-25",
          "2020-11-01",
          "2020-11-08",
          "2020-11-15",
          "2020-11-22",
          "2020-11-29"
         ],
         "xaxis": "x",
         "y": {
          "bdata": "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",
          "dtype": "f8"
         },
         "yaxis": "y"
        },
        {
         "hovertemplate": "type=organic<br>date=%{x}<br>average_price=%{y}<extra></extra>",
         "legendgroup": "organic",
         "line": {
          "color": "#EF553B",
          "dash": "solid"
         },
         "marker": {
          "symbol": "circle"
         },
         "mode": "lines",
         "name": "organic",
         "orientation": "v",
         "showlegend": true,
         "type": "scatter",
         "x": [
          "2015-01-04",
          "2015-01-11",
          "2015-01-18",
          "2015-01-25",
          "2015-02-01",
          "2015-02-08",
          "2015-02-15",
          "2015-02-22",
          "2015-03-01",
          "2015-03-08",
          "2015-03-15",
          "2015-03-22",
          "2015-03-29",
          "2015-04-05",
          "2015-04-12",
          "2015-04-19",
          "2015-04-26",
          "2015-05-03",
          "2015-05-10",
          "2015-05-17",
          "2015-05-24",
          "2015-05-31",
          "2015-06-07",
          "2015-06-14",
          "2015-06-21",
          "2015-06-28",
          "2015-07-05",
          "2015-07-12",
          "2015-07-19",
          "2015-07-26",
          "2015-08-02",
          "2015-08-09",
          "2015-08-16",
          "2015-08-23",
          "2015-08-30",
          "2015-09-06",
          "2015-09-13",
          "2015-09-20",
          "2015-09-27",
          "2015-10-04",
          "2015-10-11",
          "2015-10-18",
          "2015-10-25",
          "2015-11-01",
          "2015-11-08",
          "2015-11-15",
          "2015-11-22",
          "2015-11-29",
          "2015-12-06",
          "2015-12-13",
          "2015-12-20",
          "2015-12-27",
          "2016-01-03",
          "2016-01-10",
          "2016-01-17",
          "2016-01-24",
          "2016-01-31",
          "2016-02-07",
          "2016-02-14",
          "2016-02-21",
          "2016-02-28",
          "2016-03-06",
          "2016-03-13",
          "2016-03-20",
          "2016-03-27",
          "2016-04-03",
          "2016-04-10",
          "2016-04-17",
          "2016-04-24",
          "2016-05-01",
          "2016-05-08",
          "2016-05-15",
          "2016-05-22",
          "2016-05-29",
          "2016-06-05",
          "2016-06-12",
          "2016-06-19",
          "2016-06-26",
          "2016-07-03",
          "2016-07-10",
          "2016-07-17",
          "2016-07-24",
          "2016-07-31",
          "2016-08-07",
          "2016-08-14",
          "2016-08-21",
          "2016-08-28",
          "2016-09-04",
          "2016-09-11",
          "2016-09-18",
          "2016-09-25",
          "2016-10-02",
          "2016-10-09",
          "2016-10-16",
          "2016-10-23",
          "2016-10-30",
          "2016-11-06",
          "2016-11-13",
          "2016-11-20",
          "2016-11-27",
          "2016-12-04",
          "2016-12-11",
          "2016-12-18",
          "2016-12-25",
          "2017-01-01",
          "2017-01-08",
          "2017-01-15",
          "2017-01-22",
          "2017-01-29",
          "2017-02-05",
          "2017-02-12",
          "2017-02-19",
          "2017-02-26",
          "2017-03-05",
          "2017-03-12",
          "2017-03-19",
          "2017-03-26",
          "2017-04-02",
          "2017-04-09",
          "2017-04-16",
          "2017-04-23",
          "2017-04-30",
          "2017-05-07",
          "2017-05-14",
          "2017-05-21",
          "2017-05-28",
          "2017-06-04",
          "2017-06-11",
          "2017-06-18",
          "2017-06-25",
          "2017-07-02",
          "2017-07-09",
          "2017-07-16",
          "2017-07-23",
          "2017-07-30",
          "2017-08-06",
          "2017-08-13",
          "2017-08-20",
          "2017-08-27",
          "2017-09-03",
          "2017-09-10",
          "2017-09-17",
          "2017-09-24",
          "2017-10-01",
          "2017-10-08",
          "2017-10-15",
          "2017-10-22",
          "2017-10-29",
          "2017-11-05",
          "2017-11-12",
          "2017-11-19",
          "2017-11-26",
          "2017-12-03",
          "2017-12-10",
          "2017-12-17",
          "2017-12-24",
          "2017-12-31",
          "2018-01-01",
          "2018-01-07",
          "2018-01-14",
          "2018-01-21",
          "2018-01-28",
          "2018-02-04",
          "2018-02-11",
          "2018-02-18",
          "2018-02-25",
          "2018-03-04",
          "2018-03-11",
          "2018-03-18",
          "2018-03-25",
          "2018-04-01",
          "2018-04-08",
          "2018-04-15",
          "2018-04-22",
          "2018-04-29",
          "2018-05-06",
          "2018-05-13",
          "2018-05-20",
          "2018-05-27",
          "2018-06-03",
          "2018-06-10",
          "2018-06-17",
          "2018-06-24",
          "2018-07-01",
          "2018-07-08",
          "2018-07-15",
          "2018-07-22",
          "2018-07-29",
          "2018-08-05",
          "2018-08-12",
          "2018-08-19",
          "2018-08-26",
          "2018-09-02",
          "2018-09-09",
          "2018-09-16",
          "2018-09-23",
          "2018-09-30",
          "2018-10-07",
          "2018-10-14",
          "2018-10-21",
          "2018-10-28",
          "2018-11-04",
          "2018-11-11",
          "2018-11-18",
          "2018-11-25",
          "2018-12-02",
          "2019-01-07",
          "2019-01-13",
          "2019-01-20",
          "2019-01-27",
          "2019-02-03",
          "2019-02-10",
          "2019-02-17",
          "2019-02-24",
          "2019-03-03",
          "2019-03-10",
          "2019-03-17",
          "2019-03-24",
          "2019-03-31",
          "2019-04-07",
          "2019-04-14",
          "2019-04-21",
          "2019-04-28",
          "2019-05-05",
          "2019-05-12",
          "2019-05-19",
          "2019-05-26",
          "2019-06-02",
          "2019-06-09",
          "2019-06-16",
          "2019-06-23",
          "2019-06-30",
          "2019-07-07",
          "2019-07-14",
          "2019-07-21",
          "2019-07-28",
          "2019-08-04",
          "2019-08-11",
          "2019-08-18",
          "2019-08-25",
          "2019-09-01",
          "2019-09-08",
          "2019-09-15",
          "2019-09-22",
          "2019-09-29",
          "2019-10-06",
          "2019-10-13",
          "2019-10-20",
          "2019-10-27",
          "2019-11-03",
          "2019-11-10",
          "2019-11-17",
          "2019-11-24",
          "2019-12-01",
          "2019-12-08",
          "2019-12-15",
          "2019-12-22",
          "2019-12-29",
          "2020-01-06",
          "2020-01-12",
          "2020-01-19",
          "2020-01-26",
          "2020-02-02",
          "2020-02-09",
          "2020-02-16",
          "2020-02-23",
          "2020-03-01",
          "2020-03-08",
          "2020-03-15",
          "2020-03-22",
          "2020-03-29",
          "2020-04-05",
          "2020-04-12",
          "2020-04-19",
          "2020-04-26",
          "2020-05-03",
          "2020-05-10",
          "2020-05-17",
          "2020-05-24",
          "2020-05-31",
          "2020-06-07",
          "2020-06-14",
          "2020-06-21",
          "2020-06-28",
          "2020-07-05",
          "2020-07-12",
          "2020-07-19",
          "2020-07-26",
          "2020-08-02",
          "2020-08-09",
          "2020-08-16",
          "2020-08-23",
          "2020-08-30",
          "2020-09-06",
          "2020-09-13",
          "2020-09-20",
          "2020-09-27",
          "2020-10-04",
          "2020-10-11",
          "2020-10-18",
          "2020-10-25",
          "2020-11-01",
          "2020-11-08",
          "2020-11-15",
          "2020-11-22",
          "2020-11-29"
         ],
         "xaxis": "x",
         "y": {
          "bdata": "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",
          "dtype": "f8"
         },
         "yaxis": "y"
        }
       ],
       "layout": {
        "legend": {
         "title": {
          "text": "type"
         },
         "tracegroupgap": 0
        },
        "margin": {
         "t": 60
        },
        "template": {
         "data": {
          "bar": [
           {
            "error_x": {
             "color": "#2a3f5f"
            },
            "error_y": {
             "color": "#2a3f5f"
            },
            "marker": {
             "line": {
              "color": "#E5ECF6",
              "width": 0.5
             },
             "pattern": {
              "fillmode": "overlay",
              "size": 10,
              "solidity": 0.2
             }
            },
            "type": "bar"
           }
          ],
          "barpolar": [
           {
            "marker": {
             "line": {
              "color": "#E5ECF6",
              "width": 0.5
             },
             "pattern": {
              "fillmode": "overlay",
              "size": 10,
              "solidity": 0.2
             }
            },
            "type": "barpolar"
           }
          ],
          "carpet": [
           {
            "aaxis": {
             "endlinecolor": "#2a3f5f",
             "gridcolor": "white",
             "linecolor": "white",
             "minorgridcolor": "white",
             "startlinecolor": "#2a3f5f"
            },
            "baxis": {
             "endlinecolor": "#2a3f5f",
             "gridcolor": "white",
             "linecolor": "white",
             "minorgridcolor": "white",
             "startlinecolor": "#2a3f5f"
            },
            "type": "carpet"
           }
          ],
          "choropleth": [
           {
            "colorbar": {
             "outlinewidth": 0,
             "ticks": ""
            },
            "type": "choropleth"
           }
          ],
          "contour": [
           {
            "colorbar": {
             "outlinewidth": 0,
             "ticks": ""
            },
            "colorscale": [
             [
              0,
              "#0d0887"
             ],
             [
              0.1111111111111111,
              "#46039f"
             ],
             [
              0.2222222222222222,
              "#7201a8"
             ],
             [
              0.3333333333333333,
              "#9c179e"
             ],
             [
              0.4444444444444444,
              "#bd3786"
             ],
             [
              0.5555555555555556,
              "#d8576b"
             ],
             [
              0.6666666666666666,
              "#ed7953"
             ],
             [
              0.7777777777777778,
              "#fb9f3a"
             ],
             [
              0.8888888888888888,
              "#fdca26"
             ],
             [
              1,
              "#f0f921"
             ]
            ],
            "type": "contour"
           }
          ],
          "contourcarpet": [
           {
            "colorbar": {
             "outlinewidth": 0,
             "ticks": ""
            },
            "type": "contourcarpet"
           }
          ],
          "heatmap": [
           {
            "colorbar": {
             "outlinewidth": 0,
             "ticks": ""
            },
            "colorscale": [
             [
              0,
              "#0d0887"
             ],
             [
              0.1111111111111111,
              "#46039f"
             ],
             [
              0.2222222222222222,
              "#7201a8"
             ],
             [
              0.3333333333333333,
              "#9c179e"
             ],
             [
              0.4444444444444444,
              "#bd3786"
             ],
             [
              0.5555555555555556,
              "#d8576b"
             ],
             [
              0.6666666666666666,
              "#ed7953"
             ],
             [
              0.7777777777777778,
              "#fb9f3a"
             ],
             [
              0.8888888888888888,
              "#fdca26"
             ],
             [
              1,
              "#f0f921"
             ]
            ],
            "type": "heatmap"
           }
          ],
          "histogram": [
           {
            "marker": {
             "pattern": {
              "fillmode": "overlay",
              "size": 10,
              "solidity": 0.2
             }
            },
            "type": "histogram"
           }
          ],
          "histogram2d": [
           {
            "colorbar": {
             "outlinewidth": 0,
             "ticks": ""
            },
            "colorscale": [
             [
              0,
              "#0d0887"
             ],
             [
              0.1111111111111111,
              "#46039f"
             ],
             [
              0.2222222222222222,
              "#7201a8"
             ],
             [
              0.3333333333333333,
              "#9c179e"
             ],
             [
              0.4444444444444444,
              "#bd3786"
             ],
             [
              0.5555555555555556,
              "#d8576b"
             ],
             [
              0.6666666666666666,
              "#ed7953"
             ],
             [
              0.7777777777777778,
              "#fb9f3a"
             ],
             [
              0.8888888888888888,
              "#fdca26"
             ],
             [
              1,
              "#f0f921"
             ]
            ],
            "type": "histogram2d"
           }
          ],
          "histogram2dcontour": [
           {
            "colorbar": {
             "outlinewidth": 0,
             "ticks": ""
            },
            "colorscale": [
             [
              0,
              "#0d0887"
             ],
             [
              0.1111111111111111,
              "#46039f"
             ],
             [
              0.2222222222222222,
              "#7201a8"
             ],
             [
              0.3333333333333333,
              "#9c179e"
             ],
             [
              0.4444444444444444,
              "#bd3786"
             ],
             [
              0.5555555555555556,
              "#d8576b"
             ],
             [
              0.6666666666666666,
              "#ed7953"
             ],
             [
              0.7777777777777778,
              "#fb9f3a"
             ],
             [
              0.8888888888888888,
              "#fdca26"
             ],
             [
              1,
              "#f0f921"
             ]
            ],
            "type": "histogram2dcontour"
           }
          ],
          "mesh3d": [
           {
            "colorbar": {
             "outlinewidth": 0,
             "ticks": ""
            },
            "type": "mesh3d"
           }
          ],
          "parcoords": [
           {
            "line": {
             "colorbar": {
              "outlinewidth": 0,
              "ticks": ""
             }
            },
            "type": "parcoords"
           }
          ],
          "pie": [
           {
            "automargin": true,
            "type": "pie"
           }
          ],
          "scatter": [
           {
            "fillpattern": {
             "fillmode": "overlay",
             "size": 10,
             "solidity": 0.2
            },
            "type": "scatter"
           }
          ],
          "scatter3d": [
           {
            "line": {
             "colorbar": {
              "outlinewidth": 0,
              "ticks": ""
             }
            },
            "marker": {
             "colorbar": {
              "outlinewidth": 0,
              "ticks": ""
             }
            },
            "type": "scatter3d"
           }
          ],
          "scattercarpet": [
           {
            "marker": {
             "colorbar": {
              "outlinewidth": 0,
              "ticks": ""
             }
            },
            "type": "scattercarpet"
           }
          ],
          "scattergeo": [
           {
            "marker": {
             "colorbar": {
              "outlinewidth": 0,
              "ticks": ""
             }
            },
            "type": "scattergeo"
           }
          ],
          "scattergl": [
           {
            "marker": {
             "colorbar": {
              "outlinewidth": 0,
              "ticks": ""
             }
            },
            "type": "scattergl"
           }
          ],
          "scattermap": [
           {
            "marker": {
             "colorbar": {
              "outlinewidth": 0,
              "ticks": ""
             }
            },
            "type": "scattermap"
           }
          ],
          "scattermapbox": [
           {
            "marker": {
             "colorbar": {
              "outlinewidth": 0,
              "ticks": ""
             }
            },
            "type": "scattermapbox"
           }
          ],
          "scatterpolar": [
           {
            "marker": {
             "colorbar": {
              "outlinewidth": 0,
              "ticks": ""
             }
            },
            "type": "scatterpolar"
           }
          ],
          "scatterpolargl": [
           {
            "marker": {
             "colorbar": {
              "outlinewidth": 0,
              "ticks": ""
             }
            },
            "type": "scatterpolargl"
           }
          ],
          "scatterternary": [
           {
            "marker": {
             "colorbar": {
              "outlinewidth": 0,
              "ticks": ""
             }
            },
            "type": "scatterternary"
           }
          ],
          "surface": [
           {
            "colorbar": {
             "outlinewidth": 0,
             "ticks": ""
            },
            "colorscale": [
             [
              0,
              "#0d0887"
             ],
             [
              0.1111111111111111,
              "#46039f"
             ],
             [
              0.2222222222222222,
              "#7201a8"
             ],
             [
              0.3333333333333333,
              "#9c179e"
             ],
             [
              0.4444444444444444,
              "#bd3786"
             ],
             [
              0.5555555555555556,
              "#d8576b"
             ],
             [
              0.6666666666666666,
              "#ed7953"
             ],
             [
              0.7777777777777778,
              "#fb9f3a"
             ],
             [
              0.8888888888888888,
              "#fdca26"
             ],
             [
              1,
              "#f0f921"
             ]
            ],
            "type": "surface"
           }
          ],
          "table": [
           {
            "cells": {
             "fill": {
              "color": "#EBF0F8"
             },
             "line": {
              "color": "white"
             }
            },
            "header": {
             "fill": {
              "color": "#C8D4E3"
             },
             "line": {
              "color": "white"
             }
            },
            "type": "table"
           }
          ]
         },
         "layout": {
          "annotationdefaults": {
           "arrowcolor": "#2a3f5f",
           "arrowhead": 0,
           "arrowwidth": 1
          },
          "autotypenumbers": "strict",
          "coloraxis": {
           "colorbar": {
            "outlinewidth": 0,
            "ticks": ""
           }
          },
          "colorscale": {
           "diverging": [
            [
             0,
             "#8e0152"
            ],
            [
             0.1,
             "#c51b7d"
            ],
            [
             0.2,
             "#de77ae"
            ],
            [
             0.3,
             "#f1b6da"
            ],
            [
             0.4,
             "#fde0ef"
            ],
            [
             0.5,
             "#f7f7f7"
            ],
            [
             0.6,
             "#e6f5d0"
            ],
            [
             0.7,
             "#b8e186"
            ],
            [
             0.8,
             "#7fbc41"
            ],
            [
             0.9,
             "#4d9221"
            ],
            [
             1,
             "#276419"
            ]
           ],
           "sequential": [
            [
             0,
             "#0d0887"
            ],
            [
             0.1111111111111111,
             "#46039f"
            ],
            [
             0.2222222222222222,
             "#7201a8"
            ],
            [
             0.3333333333333333,
             "#9c179e"
            ],
            [
             0.4444444444444444,
             "#bd3786"
            ],
            [
             0.5555555555555556,
             "#d8576b"
            ],
            [
             0.6666666666666666,
             "#ed7953"
            ],
            [
             0.7777777777777778,
             "#fb9f3a"
            ],
            [
             0.8888888888888888,
             "#fdca26"
            ],
            [
             1,
             "#f0f921"
            ]
           ],
           "sequentialminus": [
            [
             0,
             "#0d0887"
            ],
            [
             0.1111111111111111,
             "#46039f"
            ],
            [
             0.2222222222222222,
             "#7201a8"
            ],
            [
             0.3333333333333333,
             "#9c179e"
            ],
            [
             0.4444444444444444,
             "#bd3786"
            ],
            [
             0.5555555555555556,
             "#d8576b"
            ],
            [
             0.6666666666666666,
             "#ed7953"
            ],
            [
             0.7777777777777778,
             "#fb9f3a"
            ],
            [
             0.8888888888888888,
             "#fdca26"
            ],
            [
             1,
             "#f0f921"
            ]
           ]
          },
          "colorway": [
           "#636efa",
           "#EF553B",
           "#00cc96",
           "#ab63fa",
           "#FFA15A",
           "#19d3f3",
           "#FF6692",
           "#B6E880",
           "#FF97FF",
           "#FECB52"
          ],
          "font": {
           "color": "#2a3f5f"
          },
          "geo": {
           "bgcolor": "white",
           "lakecolor": "white",
           "landcolor": "#E5ECF6",
           "showlakes": true,
           "showland": true,
           "subunitcolor": "white"
          },
          "hoverlabel": {
           "align": "left"
          },
          "hovermode": "closest",
          "mapbox": {
           "style": "light"
          },
          "paper_bgcolor": "white",
          "plot_bgcolor": "#E5ECF6",
          "polar": {
           "angularaxis": {
            "gridcolor": "white",
            "linecolor": "white",
            "ticks": ""
           },
           "bgcolor": "#E5ECF6",
           "radialaxis": {
            "gridcolor": "white",
            "linecolor": "white",
            "ticks": ""
           }
          },
          "scene": {
           "xaxis": {
            "backgroundcolor": "#E5ECF6",
            "gridcolor": "white",
            "gridwidth": 2,
            "linecolor": "white",
            "showbackground": true,
            "ticks": "",
            "zerolinecolor": "white"
           },
           "yaxis": {
            "backgroundcolor": "#E5ECF6",
            "gridcolor": "white",
            "gridwidth": 2,
            "linecolor": "white",
            "showbackground": true,
            "ticks": "",
            "zerolinecolor": "white"
           },
           "zaxis": {
            "backgroundcolor": "#E5ECF6",
            "gridcolor": "white",
            "gridwidth": 2,
            "linecolor": "white",
            "showbackground": true,
            "ticks": "",
            "zerolinecolor": "white"
           }
          },
          "shapedefaults": {
           "line": {
            "color": "#2a3f5f"
           }
          },
          "ternary": {
           "aaxis": {
            "gridcolor": "white",
            "linecolor": "white",
            "ticks": ""
           },
           "baxis": {
            "gridcolor": "white",
            "linecolor": "white",
            "ticks": ""
           },
           "bgcolor": "#E5ECF6",
           "caxis": {
            "gridcolor": "white",
            "linecolor": "white",
            "ticks": ""
           }
          },
          "title": {
           "x": 0.05
          },
          "xaxis": {
           "automargin": true,
           "gridcolor": "white",
           "linecolor": "white",
           "ticks": "",
           "title": {
            "standoff": 15
           },
           "zerolinecolor": "white",
           "zerolinewidth": 2
          },
          "yaxis": {
           "automargin": true,
           "gridcolor": "white",
           "linecolor": "white",
           "ticks": "",
           "title": {
            "standoff": 15
           },
           "zerolinecolor": "white",
           "zerolinewidth": 2
          }
         }
        },
        "xaxis": {
         "anchor": "y",
         "domain": [
          0,
          1
         ],
         "title": {
          "text": "date"
         }
        },
        "yaxis": {
         "anchor": "x",
         "domain": [
          0,
          1
         ],
         "title": {
          "text": "average_price"
         }
        }
       }
      }
     },
     "metadata": {},
     "output_type": "display_data"
    }
   ],
   "source": [
    "msk = df['geography'] == 'Los Angeles'\n",
    "px.line(df[msk], x='date', y='average_price', color='type')"
   ]
  },
  {
   "cell_type": "code",
   "execution_count": null,
   "metadata": {},
   "outputs": [],
   "source": []
  }
 ],
 "metadata": {
  "kernelspec": {
   "display_name": "Python 3",
   "language": "python",
   "name": "python3"
  },
  "language_info": {
   "codemirror_mode": {
    "name": "ipython",
    "version": 3
   },
   "file_extension": ".py",
   "mimetype": "text/x-python",
   "name": "python",
   "nbconvert_exporter": "python",
   "pygments_lexer": "ipython3",
   "version": "3.12.3"
  }
 },
 "nbformat": 4,
 "nbformat_minor": 2
}
